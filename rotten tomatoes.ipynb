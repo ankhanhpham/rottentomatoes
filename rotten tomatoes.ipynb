{
 "cells": [
  {
   "cell_type": "code",
   "execution_count": 1,
   "metadata": {},
   "outputs": [
    {
     "name": "stdout",
     "output_type": "stream",
     "text": [
      "Model Accuracy: 0.96\n"
     ]
    }
   ],
   "source": [
    "import requests #requests is a package that allows us to make HTTP requests in Python\n",
    "from bs4 import BeautifulSoup\n",
    "import json\n",
    "import time\n",
    "\n",
    "movie = \"the_godfather\"\n",
    "pageNum = 3\n",
    "\n",
    "def get_reviews_from_page(url):\n",
    "    response = requests.get(url)\n",
    "    soup = BeautifulSoup(response.text, 'html.parser')\n",
    "    reviews = []\n",
    "    reviews_content = soup.find_all('div', class_=\"review-row\")\n",
    "\n",
    "    for review in reviews_content:\n",
    "        critic = review.find('a', class_='display-name')\n",
    "        critic_name = critic.get_text(strip=True) if critic else None\n",
    "\n",
    "        try:\n",
    "            rating = review.find('score-icon-critic-deprecated')['state']\n",
    "        except (AttributeError, KeyError):\n",
    "            rating = None\n",
    "\n",
    "        source = review.find('a', {'data-qa': 'review-publication'})\n",
    "        source_text = source.get_text(strip=True) if source else None\n",
    "\n",
    "        text = review.find('p', {'data-qa': 'review-quote'})\n",
    "        text_content = text.get_text(strip=True) if text else None\n",
    "\n",
    "        date = review.find('span', {'data-qa': 'review-date'})\n",
    "        date_text = date.get_text(strip=True) if date else None\n",
    "\n",
    "        reviews.append({\n",
    "            \"critic\": critic_name,\n",
    "            \"rating\": rating,\n",
    "            \"source\": source_text,\n",
    "            \"text\": text_content,\n",
    "            \"date\": date_text\n",
    "        })\n",
    "\n",
    "    return reviews\n",
    "\n",
    "all_reviews = []\n",
    "\n",
    "for page in range(1, pageNum):\n",
    "    url = f\"https://www.rottentomatoes.com/m/{movie}/reviews?page={page}\"\n",
    "    page_reviews = get_reviews_from_page(url)\n",
    "    all_reviews.extend(page_reviews)\n",
    "    time.sleep(2) \n",
    "\n",
    "filename = f\"An_Pham_{movie}.json\" \n",
    "with open(filename, 'w') as f:\n",
    "    json.dump(all_reviews, f, indent=4)\n",
    "\n",
    "print(f\"Scraping complete. Data saved to {filename}\")\n"
   ]
  },
  {
   "cell_type": "code",
   "execution_count": null,
   "metadata": {},
   "outputs": [],
   "source": []
  }
 ],
 "metadata": {
  "kernelspec": {
   "display_name": "Python (base)",
   "language": "python",
   "name": "base"
  },
  "language_info": {
   "codemirror_mode": {
    "name": "ipython",
    "version": 3
   },
   "file_extension": ".py",
   "mimetype": "text/x-python",
   "name": "python",
   "nbconvert_exporter": "python",
   "pygments_lexer": "ipython3",
   "version": "3.11.5"
  }
 },
 "nbformat": 4,
 "nbformat_minor": 2
}
